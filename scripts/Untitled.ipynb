{
 "cells": [
  {
   "cell_type": "code",
   "execution_count": 2,
   "metadata": {},
   "outputs": [],
   "source": [
    "import pandas as pd"
   ]
  },
  {
   "cell_type": "code",
   "execution_count": null,
   "metadata": {},
   "outputs": [],
   "source": [
    "path = \"/Users/laurasansc/Desktop/BioinformaticsSystemsBiology/DeepLearning/data_project/matrices_mex/hg19/counts.tsv\"\n",
    "\n",
    "num_of_rows = 1024\n",
    "TextFileReader = pd.read_csv(path, sep=\"\\t\", chunksize= num_of_rows,error_bad_lines=False)\n",
    "\n",
    "dfs = []\n",
    "for chunk_df in TextFileReader:\n",
    "    dfs.append(chunk_df)\n",
    "dat = pd.concat(dfs,sort=False)"
   ]
  },
  {
   "cell_type": "code",
   "execution_count": 7,
   "metadata": {},
   "outputs": [
    {
     "data": {
      "text/html": [
       "<div>\n",
       "<style scoped>\n",
       "    .dataframe tbody tr th:only-of-type {\n",
       "        vertical-align: middle;\n",
       "    }\n",
       "\n",
       "    .dataframe tbody tr th {\n",
       "        vertical-align: top;\n",
       "    }\n",
       "\n",
       "    .dataframe thead th {\n",
       "        text-align: right;\n",
       "    }\n",
       "</style>\n",
       "<table border=\"1\" class=\"dataframe\">\n",
       "  <thead>\n",
       "    <tr style=\"text-align: right;\">\n",
       "      <th></th>\n",
       "      <th>0</th>\n",
       "      <th>1</th>\n",
       "      <th>2</th>\n",
       "      <th>3</th>\n",
       "      <th>4</th>\n",
       "      <th>5</th>\n",
       "      <th>6</th>\n",
       "      <th>7</th>\n",
       "      <th>8</th>\n",
       "      <th>9</th>\n",
       "      <th>...</th>\n",
       "      <th>68569</th>\n",
       "      <th>68570</th>\n",
       "      <th>68571</th>\n",
       "      <th>68572</th>\n",
       "      <th>68573</th>\n",
       "      <th>68574</th>\n",
       "      <th>68575</th>\n",
       "      <th>68576</th>\n",
       "      <th>68577</th>\n",
       "      <th>68578</th>\n",
       "    </tr>\n",
       "  </thead>\n",
       "  <tbody>\n",
       "    <tr>\n",
       "      <td>0</td>\n",
       "      <td>V1</td>\n",
       "      <td>V2</td>\n",
       "      <td>V3</td>\n",
       "      <td>V4</td>\n",
       "      <td>V5</td>\n",
       "      <td>V6</td>\n",
       "      <td>V7</td>\n",
       "      <td>V8</td>\n",
       "      <td>V9</td>\n",
       "      <td>V10</td>\n",
       "      <td>...</td>\n",
       "      <td>V68570</td>\n",
       "      <td>V68571</td>\n",
       "      <td>V68572</td>\n",
       "      <td>V68573</td>\n",
       "      <td>V68574</td>\n",
       "      <td>V68575</td>\n",
       "      <td>V68576</td>\n",
       "      <td>V68577</td>\n",
       "      <td>V68578</td>\n",
       "      <td>V68579</td>\n",
       "    </tr>\n",
       "  </tbody>\n",
       "</table>\n",
       "<p>1 rows × 68579 columns</p>\n",
       "</div>"
      ],
      "text/plain": [
       "  0     1     2     3     4     5     6     7     8     9      ...   68569  \\\n",
       "0    V1    V2    V3    V4    V5    V6    V7    V8    V9   V10  ...  V68570   \n",
       "\n",
       "    68570   68571   68572   68573   68574   68575   68576   68577   68578  \n",
       "0  V68571  V68572  V68573  V68574  V68575  V68576  V68577  V68578  V68579  \n",
       "\n",
       "[1 rows x 68579 columns]"
      ]
     },
     "execution_count": 7,
     "metadata": {},
     "output_type": "execute_result"
    }
   ],
   "source": [
    "dat.head(1)\n"
   ]
  },
  {
   "cell_type": "code",
   "execution_count": null,
   "metadata": {},
   "outputs": [],
   "source": [
    "# 1%\n",
    "dat_001 = dat.sample(frac=0.01)\n",
    "dat_001.to_csv('counts_001.tsv', sep='\\t', axis=1)\n"
   ]
  },
  {
   "cell_type": "code",
   "execution_count": null,
   "metadata": {},
   "outputs": [],
   "source": [
    "# 5%\n",
    "dat_005 = dat.sample(frac=0.05)\n",
    "dat_005.to_csv('counts_005.tsv', sep='\\t', axis=1)\n"
   ]
  },
  {
   "cell_type": "code",
   "execution_count": null,
   "metadata": {},
   "outputs": [],
   "source": [
    "# 10%\n",
    "dat_01 = dat.sample(frac=0.1)\n",
    "dat_01.to_csv('counts_01.tsv', sep='\\t', axis=1)\n"
   ]
  },
  {
   "cell_type": "code",
   "execution_count": null,
   "metadata": {},
   "outputs": [],
   "source": [
    "# 20%\n",
    "dat_02 = dat.sample(frac=0.2)\n",
    "dat_02.to_csv('counts_02.tsv', sep='\\t', axis=1)\n"
   ]
  }
 ],
 "metadata": {
  "kernelspec": {
   "display_name": "Python 3",
   "language": "python",
   "name": "python3"
  },
  "language_info": {
   "codemirror_mode": {
    "name": "ipython",
    "version": 3
   },
   "file_extension": ".py",
   "mimetype": "text/x-python",
   "name": "python",
   "nbconvert_exporter": "python",
   "pygments_lexer": "ipython3",
   "version": "3.7.5"
  }
 },
 "nbformat": 4,
 "nbformat_minor": 4
}
