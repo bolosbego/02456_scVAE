{
  "nbformat": 4,
  "nbformat_minor": 0,
  "metadata": {
    "colab": {
      "name": "pca.ipynb",
      "provenance": [],
      "collapsed_sections": []
    },
    "kernelspec": {
      "name": "python3",
      "display_name": "Python 3"
    }
  },
  "cells": [
    {
      "cell_type": "markdown",
      "metadata": {
        "id": "1n8VCa4ISqar"
      },
      "source": [
        "# Principal Component Analysis of data set *10x-68k-PMBC* - subset 1300 samples\r\n",
        "\r\n"
      ]
    },
    {
      "cell_type": "code",
      "metadata": {
        "id": "aBnww-dsjDjI"
      },
      "source": [
        "# Dependencies\n",
        "import numpy as np\n",
        "import pandas as pd\n",
        "from sklearn.preprocessing import StandardScaler\n",
        "from sklearn.decomposition import PCA"
      ],
      "execution_count": null,
      "outputs": []
    },
    {
      "cell_type": "code",
      "metadata": {
        "id": "FsKJLMXLFHTu",
        "colab": {
          "base_uri": "https://localhost:8080/"
        },
        "outputId": "263735fc-8eea-4941-c0e8-957ec32063e0"
      },
      "source": [
        "# Mount drive\n",
        "from google.colab import drive\n",
        "drive.mount(\"/drive\")"
      ],
      "execution_count": null,
      "outputs": [
        {
          "output_type": "stream",
          "text": [
            "Mounted at /drive\n"
          ],
          "name": "stdout"
        }
      ]
    },
    {
      "cell_type": "code",
      "metadata": {
        "id": "jtezgZuWasgn"
      },
      "source": [
        "# Set paths\r\n",
        "path_root = '/drive/My Drive/Deep Learning/github/'\r\n",
        "path_input = path_root + 'data/raw/'\r\n",
        "path_output = path_root + 'data/pca/'\r\n",
        "path_results = path_root + 'results/pca/'"
      ],
      "execution_count": null,
      "outputs": []
    },
    {
      "cell_type": "code",
      "metadata": {
        "id": "6dwWeo43jtjV"
      },
      "source": [
        "# Import 10x-68k-PMBC data \n",
        "df = pd.read_csv(path_input + 'subset1300_counts.tsv.gz', compression='gzip', header=None, sep='\\t', index_col=0, quotechar='\"', error_bad_lines=False)[0:1300]\n",
        "classes = pd.read_csv(path_input + 'subset1300_celltypes.tsv', header=0, sep='\\t', quotechar='\"', error_bad_lines=False).celltype[0:1300]"
      ],
      "execution_count": null,
      "outputs": []
    },
    {
      "cell_type": "code",
      "metadata": {
        "id": "GBqJzxdyHF4N"
      },
      "source": [
        "# Compute PCA\n",
        "\n",
        "## Standarization\n",
        "X = df.values\n",
        "scaler = StandardScaler()\n",
        "scaler.fit(X)\n",
        "X_scaled = scaler.transform(X)\n",
        "\n",
        "## Decomposition\n",
        "pca_10  = PCA(n_components=10,  random_state=2020)\n",
        "pca_25  = PCA(n_components=25,  random_state=2020)\n",
        "pca_50  = PCA(n_components=50,  random_state=2020)\n",
        "pca_100 = PCA(n_components=100, random_state=2020)\n",
        "\n",
        "X_pca_10  = pca_10.fit(X_scaled).transform(X_scaled)\n",
        "X_pca_25  = pca_25.fit(X_scaled).transform(X_scaled)\n",
        "X_pca_50  = pca_50.fit(X_scaled).transform(X_scaled)\n",
        "X_pca_100 = pca_100.fit(X_scaled).transform(X_scaled)"
      ],
      "execution_count": null,
      "outputs": []
    },
    {
      "cell_type": "code",
      "metadata": {
        "colab": {
          "base_uri": "https://localhost:8080/",
          "height": 376
        },
        "id": "-HZAqU4TLVjT",
        "outputId": "16b487c2-a9ed-4f9c-9896-5c4ff705c38b"
      },
      "source": [
        "# Evaluate variance explained\n",
        "print(\"% Variance explained by all 10 principal components =\",\n",
        "      round(sum(pca_10.explained_variance_ratio_ * 100), 2))\n",
        "\n",
        "print(\"% Variance explained by all 25 principal components =\",\n",
        "      round(sum(pca_25.explained_variance_ratio_ * 100), 2))\n",
        "\n",
        "print(\"% Variance explained by all 50 principal components =\",\n",
        "      round(sum(pca_50.explained_variance_ratio_ * 100), 2))\n",
        "\n",
        "print(\"% Variance explained by all 100 principal components =\",\n",
        "      round(sum(pca_100.explained_variance_ratio_ * 100), 2))\n",
        "\n",
        "# Plot explained variance \n",
        "plt.plot(np.cumsum(pca_100.explained_variance_ratio_ * 100))\n",
        "plt.xlabel(\"Number of components\")\n",
        "plt.ylabel(\"Variance explained (%)\")\n",
        "plt.title(\"Principal Component Analysis of 10x-68k-PMBC \\nsubset 1300 samples\")\n",
        "plt.ylim(0, 100)\n",
        "plt.savefig('pca_variance_explained.png')"
      ],
      "execution_count": null,
      "outputs": [
        {
          "output_type": "stream",
          "text": [
            "% Variance explained by all 10 principal components = 4.64\n",
            "% Variance explained by all 25 principal components = 8.24\n",
            "% Variance explained by all 50 principal components = 12.99\n",
            "% Variance explained by all 100 principal components = 20.3\n"
          ],
          "name": "stdout"
        },
        {
          "output_type": "display_data",
          "data": {
            "image/png": "[encoded data removed]",
            "text/plain": [
              "<Figure size 432x288 with 1 Axes>"
            ]
          },
          "metadata": {
            "tags": [],
            "needs_background": "light"
          }
        }
      ]
    },
    {
      "cell_type": "code",
      "metadata": {
        "id": "3ADLp5qeZX94"
      },
      "source": [
        "# Save PCA data\r\n",
        "pd.DataFrame(X_pca_10).to_csv(path_output + 'pca_10.tsv', sep='\\t')\r\n",
        "pd.DataFrame(X_pca_25).to_csv(path_output + 'pca_25.tsv', sep='\\t')\r\n",
        "pd.DataFrame(X_pca_50).to_csv(path_output + 'pca_50.tsv', sep='\\t')\r\n",
        "pd.DataFrame(X_pca_100).to_csv(path_output + 'pca_100.tsv', sep='\\t')"
      ],
      "execution_count": 46,
      "outputs": []
    }
  ]
}